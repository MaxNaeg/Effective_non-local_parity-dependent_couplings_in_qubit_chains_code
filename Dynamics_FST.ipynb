{
 "cells": [
  {
   "cell_type": "markdown",
   "metadata": {},
   "source": [
    "This notebook generates the data used for Fig. 2 in M. Nägele, C. Schweizer, F. Roy, S. Filipp, Effective non-local parity-dependent couplings in qubit chains (2022), https://arxiv.org/abs/2203.07331"
   ]
  },
  {
   "cell_type": "code",
   "execution_count": 1,
   "metadata": {},
   "outputs": [],
   "source": [
    "import qutip as qt\n",
    "import matplotlib.pyplot as plt\n",
    "import matplotlib.colors as mcolors\n",
    "import matplotlib.gridspec as gridspec\n",
    "import numpy as np"
   ]
  },
  {
   "cell_type": "code",
   "execution_count": 2,
   "metadata": {},
   "outputs": [],
   "source": [
    "def buildH15(gamma: float) -> qt.Qobj:\n",
    "    \"\"\"gamma: between 0 and 1, scales transfer angle of FST,\n",
    "    returns QuTip hamiltonian of FST for a chain with 15 sites\"\"\"\n",
    "    N = 15\n",
    "    a = qt.destroy(2)\n",
    "    Id = qt.qeye(2)\n",
    "\n",
    "    # List of annihilation operators for each qubit\n",
    "    a_list = [qt.tensor([Id] * i + [a] + [Id] * (N - i - 1))  for i in range(N)]\n",
    "\n",
    "    # List of detunings between qubits\n",
    "    B_list =  [(gamma - 1) * N / 4 * (1 / (2 * n - N) - 1 / (2 * n - 2  - N) )   for n in range(1, N+1)]\n",
    "    # List of couplings between qubits\n",
    "    J_list = [np.sqrt( ( n * (N - n) * ( (2 * n - N)**2 - (gamma - 1)**2) ) / (2 * n - N)**2 ) / 2 for n in range(1, N)]  \n",
    "\n",
    "    H = B_list[N-1] * a_list[N-1].dag() * a_list[N-1]\n",
    "    for i in range(0, N-1):\n",
    "        H += B_list[i] * a_list[i].dag() * a_list[i]\n",
    "        H += J_list[i] * (a_list[i].dag() * a_list[i+1] + a_list[i] * a_list[i+1].dag())\n",
    "    return H\n",
    "\n",
    "def build_multi_colormap(steps:list, colors:list)-> mcolors.LinearSegmentedColormap:\n",
    "    \"\"\"steps: ordered list with values between 0 and 1, determines location of color in colorbar\n",
    "    colors: list of colors with  for each step, a color is specified by an array with 3 values between 0 and 1(RGB)\n",
    "    returns LinearSegmentedColormap \"\"\"\n",
    "    cdict ={\n",
    "        \"red\": [],\n",
    "        \"green\": [],\n",
    "        \"blue\": [],\n",
    "        }\n",
    "    for step, col in zip(steps, colors):\n",
    "        cdict[\"red\"].append((step, col[0], col[0]))\n",
    "        cdict[\"green\"].append((step, col[1], col[1]))\n",
    "        cdict[\"blue\"].append((step, col[2], col[2]))\n",
    "    return mcolors.LinearSegmentedColormap('CustomMap', cdict)"
   ]
  },
  {
   "cell_type": "code",
   "execution_count": 3,
   "metadata": {},
   "outputs": [],
   "source": [
    "N = 15\n",
    "lvls=2\n",
    "# Build hamiltonian with theta = pi/2\n",
    "H = buildH15(0.5)\n",
    "\n",
    "a = qt.destroy(lvls)\n",
    "Id = qt.qeye(lvls)\n",
    "\n",
    "a_list = [qt.tensor([Id] * i + [a] + [Id] * (N - i - 1))  for i in range(N)]\n",
    "\n",
    "# Create list of excitation number operators of each site\n",
    "op_list_exc = []\n",
    "for i in range(N):\n",
    "    op = a_list[i].dag() * a_list[i]\n",
    "    op_list_exc.append(op)\n",
    "\n",
    "opt = qt.solver.Options(store_states=True)"
   ]
  },
  {
   "cell_type": "code",
   "execution_count": 4,
   "metadata": {},
   "outputs": [],
   "source": [
    "# Two FST with one excitation\n",
    "psi1=qt.basis([lvls]*N , [1] + [0]*(N-1))\n",
    "t_two = np.linspace(0, 2 * np.pi, 2000)\n",
    "output1 = qt.sesolve(H, psi1, t_two, e_ops=op_list_exc, options=opt)\n",
    "\n",
    "# First FST with two excitations\n",
    "psi18=qt.basis([lvls]*N , [1, 0, 0, 0, 0, 0, 0, 1] + [0]*(N-8))\n",
    "t_one = np.linspace(0, np.pi, 1000)\n",
    "output18 = qt.sesolve(H, psi18, t_one, e_ops=op_list_exc, options=opt)\n",
    " "
   ]
  },
  {
   "cell_type": "code",
   "execution_count": 5,
   "metadata": {},
   "outputs": [],
   "source": [
    "# Flip state of middle qubit after first FST\n",
    "x_8 = (a_list[7] + a_list[7].dag()) \n",
    "psi_flipped = (x_8 * output18.states[-1])"
   ]
  },
  {
   "cell_type": "code",
   "execution_count": 6,
   "metadata": {},
   "outputs": [],
   "source": [
    "# Second FST after X gate\n",
    "output_flipped = qt.sesolve(H, psi_flipped, t_one, e_ops=op_list_exc, options=opt  )"
   ]
  },
  {
   "cell_type": "code",
   "execution_count": 7,
   "metadata": {},
   "outputs": [
    {
     "name": "stderr",
     "output_type": "stream",
     "text": [
      "<ipython-input-7-784bce181634>:106: UserWarning: This figure includes Axes that are not compatible with tight_layout, so results might be incorrect.\n",
      "  fig.tight_layout()\n"
     ]
    },
    {
     "data": {
      "image/png": "[encoded data removed]",
      "text/plain": [
       "<Figure size 411x311 with 5 Axes>"
      ]
     },
     "metadata": {
      "needs_background": "light"
     },
     "output_type": "display_data"
    }
   ],
   "source": [
    "plt.rcParams.update({\n",
    "    \"text.usetex\": True,\n",
    "    \"font.family\": \"serif\",\n",
    "    \"font.serif\": [\"Computer Modern Roman\"]})\n",
    "\n",
    "\n",
    "\n",
    "# Build colormap\n",
    "black = (0.,0.,0.)\n",
    "white = (1.,1.,1.)\n",
    "red_dark = np.array((128, 24, 21))/256\n",
    "\n",
    "\n",
    "steps = [0., 0.7, 1.]\n",
    "colors= [white, red_dark, black]\n",
    "cm = build_multi_colormap(steps, colors)\n",
    "\n",
    "\n",
    "\n",
    "fig = plt.figure(figsize=((4.11, 3.11)), dpi=100)\n",
    "\n",
    "# Fonstsize\n",
    "s=12\n",
    "# Ticksize\n",
    "st=10\n",
    "\n",
    "ds = -0.2\n",
    "dz = 1.05\n",
    "\n",
    "\n",
    "gs = gridspec.GridSpec(2, 2, width_ratios=[2,1])\n",
    "              \n",
    "ax1 = plt.subplot(gs[0])\n",
    "ax2 = plt.subplot(gs[2])\n",
    "ax3 = plt.subplot(gs[1])\n",
    "ax4 = plt.subplot(gs[3])\n",
    "\n",
    "\n",
    "ax1.label_outer()\n",
    "ax2.label_outer()\n",
    "\n",
    "\n",
    "\n",
    "\n",
    "# FIG1 ------------------\n",
    "ax = ax1\n",
    "im = ax.imshow(np.array(output1.expect), aspect=\"auto\", cmap=cm, interpolation=\"nearest\")\n",
    "\n",
    "ax.set_yticks([-0.5, 7, 14.5])\n",
    "ax.set_yticklabels([1,8, 15])\n",
    "ax.get_yaxis().majorTicks[2].label1.set_verticalalignment('bottom')\n",
    "\n",
    "ax.set_xticks([-0.5, 499, 999, 1499, 1999.5])\n",
    "\n",
    "ax.tick_params(labelright=False, labelbottom=False, labelsize=st, right=True, left = True, top = True, direction='in')\n",
    "\n",
    "ax.axvline(1000, c='gray', ls=\":\", lw=1, zorder=1)\n",
    "\n",
    "\n",
    "ax.text(ds, dz, r\"(a)\", transform=ax.transAxes,\n",
    "      fontsize=s, va='top')\n",
    "\n",
    "ax.set_ylabel(r\"Qubit site $n$\", size = s, labelpad=-3)\n",
    "\n",
    "\n",
    "\n",
    "# FIG2 ------------------\n",
    "ax = ax2\n",
    "im = ax.imshow(np.append(np.array(output18.expect), np.array(output_flipped.expect), axis=1), aspect=\"auto\", cmap=cm, interpolation=\"nearest\")\n",
    "\n",
    "ax.set_yticks([-0.5, 7, 14.5])\n",
    "ax.set_yticklabels([1, 8, 15])\n",
    "ax.get_yaxis().majorTicks[0].label1.set_verticalalignment('top')\n",
    "\n",
    "ax.set_xticks([-0.5, 499, 999, 1499, 1999.5])\n",
    "ax.set_xticklabels([0, 0.5,  1, 1.5, 2])\n",
    "\n",
    "ax.tick_params(labelright=False, labelbottom=True, labelsize=st, right=True, left = True, top = True, direction='in')\n",
    "\n",
    "ax.vlines(1000, 6, 8, color=\"#535993\", linewidths=3)\n",
    "\n",
    "ax.axvline(1000, c='gray', ls=\":\", lw=1, zorder=1)\n",
    "\n",
    "ax.set_xlabel(r\"Time [$\\tau$]\", size = s)\n",
    "\n",
    "ax.text(ds, dz, r\"(b)\", transform=ax.transAxes,\n",
    "      fontsize=s, va='top')\n",
    "\n",
    "ax.set_ylabel(r\"Qubit site $n$\", size = s, labelpad=-3)\n",
    "\n",
    "ax.text(0.51, 0.55, r\"$X^\\pi_8$\", transform=ax.transAxes,\n",
    "      fontsize=s, va='top', color = \"#535993\")\n",
    "\n",
    "\n",
    "# Colorbar\n",
    "fig.subplots_adjust(top=0.5)\n",
    "cbar_ax = fig.add_axes([0.14, 0.98, 0.52, 0.02])\n",
    "cbar = fig.colorbar(im, cax=cbar_ax, orientation=\"horizontal\")\n",
    "cbar.set_label(r\"Excitation probability\", size = s, rotation=0, labelpad=-22)\n",
    "cbar.set_ticks([0, 1])\n",
    "cbar.ax.tick_params(labelsize=st, right=True, direction='in', top = True, bottom = True, labelbottom = False, labeltop=True)\n",
    "\n",
    "ax3.axis('off')\n",
    "ax4.axis('off')\n",
    "\n",
    "fig.tight_layout()\n",
    "\n",
    "#plt.savefig(\"fig2.pdf\", bbox_inches=\"tight\")"
   ]
  },
  {
   "cell_type": "code",
   "execution_count": null,
   "metadata": {},
   "outputs": [],
   "source": []
  }
 ],
 "metadata": {
  "interpreter": {
   "hash": "74e79e4214a8ddfafc51ca14f872f9085e8d14a1766f1a013fdbd1d25a5f8136"
  },
  "kernelspec": {
   "display_name": "Python 3.9.4 ('qutip')",
   "language": "python",
   "name": "python3"
  },
  "language_info": {
   "codemirror_mode": {
    "name": "ipython",
    "version": 3
   },
   "file_extension": ".py",
   "mimetype": "text/x-python",
   "name": "python",
   "nbconvert_exporter": "python",
   "pygments_lexer": "ipython3",
   "version": "3.9.4"
  },
  "orig_nbformat": 4
 },
 "nbformat": 4,
 "nbformat_minor": 2
}
